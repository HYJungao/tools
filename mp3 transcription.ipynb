{
  "cells": [
    {
      "cell_type": "code",
      "execution_count": null,
      "metadata": {
        "colab": {
          "base_uri": "https://localhost:8080/"
        },
        "id": "YQtua7WR9frk",
        "outputId": "e6ed55dc-c297-4ed7-ca96-2480c28c37e5"
      },
      "outputs": [],
      "source": [
        "!pip install git+https://github.com/openai/whisper.git\n",
        "!pip install pydub\n",
        "!apt-get install ffmpeg\n",
        "\n",
        "import os\n",
        "import whisper\n",
        "from pydub import AudioSegment\n",
        "\n",
        "# load Whisper-large\n",
        "model = whisper.load_model(\"large\")\n",
        "\n",
        "def save_as_srt(transcription_result, srt_filename):\n",
        "    with open(srt_filename, 'w') as f:\n",
        "        for i, segment in enumerate(transcription_result['segments']):\n",
        "            start_time = segment['start']\n",
        "            end_time = segment['end']\n",
        "            text = segment['text']\n",
        "\n",
        "            # convert to srt timestamp (h: m: s: ms)\n",
        "            start_time_srt = format_srt_time(start_time)\n",
        "            end_time_srt = format_srt_time(end_time)\n",
        "\n",
        "            f.write(f\"{i + 1}\\n\")\n",
        "            f.write(f\"{start_time_srt} --> {end_time_srt}\\n\")\n",
        "            f.write(f\"{text}\\n\\n\")\n",
        "\n",
        "# convert second timestamp to SRT timestamp\n",
        "def format_srt_time(seconds):\n",
        "    hours = int(seconds // 3600)\n",
        "    minutes = int((seconds % 3600) // 60)\n",
        "    seconds = int(seconds % 60)\n",
        "    milliseconds = int((seconds % 1) * 1000)\n",
        "\n",
        "    return f\"{hours:02}:{minutes:02}:{seconds:02},{milliseconds:03}\"\n",
        "\n",
        "# process all mp3 in the directory\n",
        "def process_audio_files(input_folder, output_folder):\n",
        "    os.makedirs(output_folder, exist_ok=True)\n",
        "\n",
        "    for file_name in os.listdir(input_folder):\n",
        "        if file_name.endswith('.mp3'):\n",
        "            mp3_file = os.path.join(input_folder, file_name)\n",
        "            wav_file = os.path.join(output_folder, file_name.replace('.mp3', '.wav'))\n",
        "            srt_file = os.path.join(output_folder, file_name.replace('.mp3', '.srt'))\n",
        "\n",
        "            print(f\"processing: {mp3_file}\")\n",
        "\n",
        "            try:\n",
        "                # convert mp3 to wav\n",
        "                audio = AudioSegment.from_mp3(mp3_file)\n",
        "                audio.export(wav_file, format=\"wav\")\n",
        "\n",
        "                # transcribe\n",
        "                result = model.transcribe(wav_file)\n",
        "\n",
        "                save_as_srt(result, srt_file)\n",
        "\n",
        "                print(f\"complete: {mp3_file} -> {srt_file}\")\n",
        "            except Exception as e:\n",
        "                print(f\"failed: {mp3_file}, error: {e}\")\n",
        "\n",
        "input_folder = \"./\"  # change this variable when use\n",
        "output_folder = \"./\"  # change this variable when use\n",
        "\n",
        "process_audio_files(input_folder, output_folder)"
      ]
    }
  ],
  "metadata": {
    "accelerator": "GPU",
    "colab": {
      "gpuType": "T4",
      "provenance": [],
      "toc_visible": true
    },
    "kernelspec": {
      "display_name": "Python 3",
      "name": "python3"
    },
    "language_info": {
      "name": "python"
    }
  },
  "nbformat": 4,
  "nbformat_minor": 0
}
