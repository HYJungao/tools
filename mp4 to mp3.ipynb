{
  "cells": [
    {
      "cell_type": "code",
      "execution_count": null,
      "metadata": {
        "colab": {
          "base_uri": "https://localhost:8080/"
        },
        "id": "YQtua7WR9frk",
        "outputId": "e6ed55dc-c297-4ed7-ca96-2480c28c37e5"
      },
      "outputs": [],
      "source": [
        "!apt-get install ffmpeg\n",
        "\n",
        "import os\n",
        "import subprocess\n",
        "\n",
        "def batch_convert_with_ffmpeg(input_folder, output_folder):\n",
        "    os.makedirs(output_folder, exist_ok=True)\n",
        "\n",
        "    for file_name in os.listdir(input_folder):\n",
        "        if file_name.endswith(\".mp4\"):\n",
        "            mp4_path = os.path.join(input_folder, file_name)\n",
        "            mp3_path = os.path.join(output_folder, f\"{os.path.splitext(file_name)[0]}.mp3\")\n",
        "            try:\n",
        "                print(f\"converting: {mp4_path} -> {mp3_path}\")\n",
        "                subprocess.run([\"ffmpeg\", \"-i\", mp4_path, \"-q:a\", \"0\", \"-map\", \"a\", mp3_path], check=True)\n",
        "                print(f\"success: {mp3_path}\")\n",
        "            except subprocess.CalledProcessError as e:\n",
        "                print(f\"fail: {mp4_path}, error: {e}\")\n",
        "\n",
        "# 使用示例\n",
        "input_folder = \"你的MP4文件夹路径\"  # change this variable when use\n",
        "output_folder = \"你的MP3输出文件夹路径\"  # change this variable when use\n",
        "\n",
        "batch_convert_with_ffmpeg(input_folder, output_folder)"
      ]
    }
  ],
  "metadata": {
    "accelerator": "GPU",
    "colab": {
      "gpuType": "T4",
      "provenance": [],
      "toc_visible": true
    },
    "kernelspec": {
      "display_name": "Python 3",
      "name": "python3"
    },
    "language_info": {
      "name": "python"
    }
  },
  "nbformat": 4,
  "nbformat_minor": 0
}
